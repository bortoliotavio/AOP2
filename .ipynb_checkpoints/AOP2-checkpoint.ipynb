{
 "cells": [
  {
   "cell_type": "markdown",
   "metadata": {
    "id": "G90zxY79qIXe"
   },
   "source": [
    "<?xml version=\"1.0\" encoding=\"UTF-8\"?>\n",
    "<html>\n",
    "  <body>\n",
    "    <header></header>\n",
    "        <CENTER>\n",
    "          <img src=\"https://www.uvv.br/wp-content/themes/uvvBr/templates/assets//img/logouvv.svg\" alt=\"UVV-LOGO\" style = width=\"100px\"; height=\"100px\">\n",
    "        </CENTER>\n",
    "        <CENTER><b>ANÁLISE DE DADOS</b></CENTER>\n",
    "        <CENTER><b>AOP2 - ATIVIDADE ONLINE PONTUADA 2</b></CENTER><br/>"
   ]
  },
  {
   "cell_type": "markdown",
   "metadata": {
    "id": "qDD2bNlhyUjX"
   },
   "source": [
    "**NOME COMPLETO:**"
   ]
  },
  {
   "cell_type": "markdown",
   "metadata": {
    "id": "yZfJjeQgqTo_"
   },
   "source": [
    "#ATIVIDADE ONLINE PONTUADA – AOP2"
   ]
  },
  {
   "cell_type": "markdown",
   "metadata": {
    "id": "jCVMq4d1XQZM"
   },
   "source": [
    "**Link do Arquivo table.csv**: [Clique Aqui!](https://drive.google.com/file/d/1mT9HM6oirjvuXZkFTZRQyFWRebX3fS3B/view?usp=sharing)"
   ]
  },
  {
   "cell_type": "markdown",
   "metadata": {
    "id": "fOrzULiQkEGJ"
   },
   "source": [
    "# Carregar o Dataset (arquivo)"
   ]
  },
  {
   "cell_type": "code",
   "execution_count": 1,
   "metadata": {
    "id": "ykVY42T1OhX6"
   },
   "outputs": [],
   "source": [
    "import pandas as pd\n",
    "import numpy as np\n",
    "# importe outras bibliotecas que vc julgar necessário."
   ]
  },
  {
   "cell_type": "code",
   "execution_count": 2,
   "metadata": {
    "id": "etNmpaCvUMVR"
   },
   "outputs": [],
   "source": [
    "table = pd.read_csv('table.csv', index_col = 0)"
   ]
  },
  {
   "cell_type": "code",
   "execution_count": 3,
   "metadata": {
    "colab": {
     "base_uri": "https://localhost:8080/",
     "height": 204
    },
    "executionInfo": {
     "elapsed": 6,
     "status": "ok",
     "timestamp": 1684422091509,
     "user": {
      "displayName": "Alessandro Bertolani",
      "userId": "03214652576621795819"
     },
     "user_tz": 180
    },
    "id": "6HAs4lSwXhqk",
    "outputId": "92d05c17-2362-4481-8b5d-8e2cd44fb36c"
   },
   "outputs": [
    {
     "data": {
      "text/html": [
       "<div>\n",
       "<style scoped>\n",
       "    .dataframe tbody tr th:only-of-type {\n",
       "        vertical-align: middle;\n",
       "    }\n",
       "\n",
       "    .dataframe tbody tr th {\n",
       "        vertical-align: top;\n",
       "    }\n",
       "\n",
       "    .dataframe thead th {\n",
       "        text-align: right;\n",
       "    }\n",
       "</style>\n",
       "<table border=\"1\" class=\"dataframe\">\n",
       "  <thead>\n",
       "    <tr style=\"text-align: right;\">\n",
       "      <th></th>\n",
       "      <th>CÓDIGO</th>\n",
       "      <th>REGIÃO</th>\n",
       "      <th>SEXO</th>\n",
       "      <th>PAGAMENTO</th>\n",
       "      <th>TOTAL (R$)</th>\n",
       "    </tr>\n",
       "  </thead>\n",
       "  <tbody>\n",
       "    <tr>\n",
       "      <th>0</th>\n",
       "      <td>5151</td>\n",
       "      <td>SULDESTE</td>\n",
       "      <td>MASCULINO</td>\n",
       "      <td>DÉBITO</td>\n",
       "      <td>6872.16</td>\n",
       "    </tr>\n",
       "    <tr>\n",
       "      <th>1</th>\n",
       "      <td>6604</td>\n",
       "      <td>SUL</td>\n",
       "      <td>FEMININO</td>\n",
       "      <td>CRÉDITO</td>\n",
       "      <td>5219.01</td>\n",
       "    </tr>\n",
       "    <tr>\n",
       "      <th>2</th>\n",
       "      <td>6539</td>\n",
       "      <td>SULDESTE</td>\n",
       "      <td>MASCULINO</td>\n",
       "      <td>DÉBITO</td>\n",
       "      <td>9945.68</td>\n",
       "    </tr>\n",
       "    <tr>\n",
       "      <th>3</th>\n",
       "      <td>6922</td>\n",
       "      <td>SULDESTE</td>\n",
       "      <td>FEMININO</td>\n",
       "      <td>CRÉDITO</td>\n",
       "      <td>9993.06</td>\n",
       "    </tr>\n",
       "    <tr>\n",
       "      <th>4</th>\n",
       "      <td>4546</td>\n",
       "      <td>SULDESTE</td>\n",
       "      <td>MASCULINO</td>\n",
       "      <td>CRÉDITO</td>\n",
       "      <td>5536.25</td>\n",
       "    </tr>\n",
       "  </tbody>\n",
       "</table>\n",
       "</div>"
      ],
      "text/plain": [
       "   CÓDIGO    REGIÃO       SEXO PAGAMENTO  TOTAL (R$)\n",
       "0    5151  SULDESTE  MASCULINO    DÉBITO     6872.16\n",
       "1    6604       SUL   FEMININO   CRÉDITO     5219.01\n",
       "2    6539  SULDESTE  MASCULINO    DÉBITO     9945.68\n",
       "3    6922  SULDESTE   FEMININO   CRÉDITO     9993.06\n",
       "4    4546  SULDESTE  MASCULINO   CRÉDITO     5536.25"
      ]
     },
     "execution_count": 3,
     "metadata": {},
     "output_type": "execute_result"
    }
   ],
   "source": [
    "table.head()"
   ]
  },
  {
   "cell_type": "markdown",
   "metadata": {
    "id": "A9VKeODmSIyr"
   },
   "source": [
    "# **A partir do Dataset: table.csv, conforme as colunas do enunciado:**"
   ]
  },
  {
   "cell_type": "markdown",
   "metadata": {
    "id": "LOC_Qm4ySbAr"
   },
   "source": [
    "Resposta as seguintes questões:"
   ]
  },
  {
   "cell_type": "markdown",
   "metadata": {
    "id": "SVyl98N0pEUe"
   },
   "source": [
    "# **QUESTÃO a):**"
   ]
  },
  {
   "cell_type": "markdown",
   "metadata": {
    "id": "1eej12wOpITF"
   },
   "source": [
    "Faça a análise de Perfil de cliente por agregação: SEXO x PAGAMENTO x TOTAL (plot) e seu Box Plot."
   ]
  },
  {
   "cell_type": "code",
   "execution_count": null,
   "metadata": {
    "id": "XR44XPqHpPAE"
   },
   "outputs": [],
   "source": []
  },
  {
   "cell_type": "markdown",
   "metadata": {
    "id": "8Dgym3B1S2tm"
   },
   "source": [
    "# **QUESTÃO b):**"
   ]
  },
  {
   "cell_type": "markdown",
   "metadata": {
    "id": "sjgbu7gZTCl7"
   },
   "source": [
    "Faça a análise de Perfil de cliente por agregação: REGIÃO x PAGAMENTO x TOTAL (plot) e seu Box Plot."
   ]
  },
  {
   "cell_type": "code",
   "execution_count": null,
   "metadata": {
    "id": "JnMFk6eyS26v"
   },
   "outputs": [],
   "source": []
  },
  {
   "cell_type": "markdown",
   "metadata": {
    "id": "mpjSIAPqS5Nr"
   },
   "source": [
    "# **QUESTÃO c):**"
   ]
  },
  {
   "cell_type": "markdown",
   "metadata": {
    "id": "a_kaNQxyTEPg"
   },
   "source": [
    "Faça a análise estatística, com o info e o describe, sobre os dados dos clientes."
   ]
  },
  {
   "cell_type": "code",
   "execution_count": null,
   "metadata": {
    "id": "8dTRL_YmS6pu"
   },
   "outputs": [],
   "source": []
  },
  {
   "cell_type": "markdown",
   "metadata": {
    "id": "rkcv1XoNS7L8"
   },
   "source": [
    "# **QUESTÃO d):**"
   ]
  },
  {
   "cell_type": "markdown",
   "metadata": {
    "id": "QT_U4R0bTIRK"
   },
   "source": [
    "Enumere 3 características inferidas encontradas a partir dos resultados estatísticos obtidos nos itens a), b) e c):\n",
    "\n",
    "1.   Característica 1:\n",
    "2.   Característica 2:\n",
    "3.   Característica 3:"
   ]
  },
  {
   "cell_type": "markdown",
   "metadata": {
    "id": "lCaUoDpOzLmF"
   },
   "source": [
    "# **OBSERVAÇÃO IMPORTANTE:**\n",
    "\n",
    "**PARA ENTREGAR A ATIVIDADE:**\n",
    "\n",
    "OBRIGATÓRIO: Faça a impressão do seu **Notebook Colab (.ipynb) no formato PDF (Acrobat): .PDF** e faça o upload no AVA: AOP2.pdf."
   ]
  },
  {
   "cell_type": "markdown",
   "metadata": {
    "id": "ITA9ZUhr8rxg"
   },
   "source": [
    "#CONVERTER IPYNB para PDF"
   ]
  },
  {
   "cell_type": "markdown",
   "metadata": {
    "id": "QpxI8bpW8syr"
   },
   "source": [
    "PASSO A PASSO:\n",
    "\n",
    "1.   Fazer o download do seu IPYNB.\n",
    "2.   Fazer o upload do seu IPYNB para área temporária: content.\n",
    "3.   Rodar o código abaixo com seu NOME_DO_COLAB.ipynb: Gerar um HTML.\n",
    "4.   Fazer o download do seu HTML e abrir em um Browser qualquer.\n",
    "3.   Imprimir a página HTML em PDF. Pronto (UFA)::: 😅!"
   ]
  },
  {
   "cell_type": "code",
   "execution_count": null,
   "metadata": {
    "id": "S1bdr1TcIIB-"
   },
   "outputs": [],
   "source": []
  },
  {
   "cell_type": "code",
   "execution_count": null,
   "metadata": {
    "id": "LnRaq5n78_0z"
   },
   "outputs": [],
   "source": [
    "%%shell\n",
    "jupyter nbconvert --to html /content/NOME_DO_COLAB.ipynb"
   ]
  },
  {
   "cell_type": "markdown",
   "metadata": {
    "id": "Erbv98qXzkKv"
   },
   "source": [
    "**NÃO ENVIAR O ARQUIVO COLAB: .IPYNB**"
   ]
  },
  {
   "cell_type": "markdown",
   "metadata": {
    "id": "7tL2fZ2fzmXF"
   },
   "source": [
    "**FAÇA AQUI UM LINK PARA O PROFESSOR** (COMPARTILHADO COM TODOS): [Link para o professor!]"
   ]
  }
 ],
 "metadata": {
  "colab": {
   "provenance": [
    {
     "file_id": "1W2BbnnPfVuTJn7V1nTUhpq3U39qgVm9i",
     "timestamp": 1588767414204
    },
    {
     "file_id": "1XP10MHbunmWR832FDSHv63JL1daxAm-G",
     "timestamp": 1588248693948
    }
   ]
  },
  "kernelspec": {
   "display_name": "base",
   "language": "python",
   "name": "python3"
  },
  "language_info": {
   "codemirror_mode": {
    "name": "ipython",
    "version": 3
   },
   "file_extension": ".py",
   "mimetype": "text/x-python",
   "name": "python",
   "nbconvert_exporter": "python",
   "pygments_lexer": "ipython3",
   "version": "3.12.4"
  }
 },
 "nbformat": 4,
 "nbformat_minor": 0
}
